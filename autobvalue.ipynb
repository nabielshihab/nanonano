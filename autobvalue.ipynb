{
 "cells": [
  {
   "cell_type": "markdown",
   "metadata": {},
   "source": [
    "author : \n",
    "> Nabiel Husein Shihab / nabielshihab@hotmail.com"
   ]
  },
  {
   "cell_type": "markdown",
   "metadata": {},
   "source": [
    "## **Estimating Magnitude of Completeness and b-value Automatically**\n",
    "***"
   ]
  },
  {
   "cell_type": "markdown",
   "metadata": {},
   "source": [
    "<div class=\"alert alert-block alert-warning\">\n",
    "<b>Flowchart</b>\n",
    "</div>\n",
    "\n",
    "\n",
    "# <img src=\"Figures/Picture_auto.png\" width=\"900\"/>\n",
    "\n",
    "***"
   ]
  },
  {
   "cell_type": "markdown",
   "metadata": {},
   "source": [
    "## I. Importing functions from other modules in library folder."
   ]
  },
  {
   "cell_type": "code",
   "execution_count": 1,
   "metadata": {},
   "outputs": [],
   "source": [
    "from library.curve_fitting_method import *\n",
    "from library.visualization import *\n",
    "from library.mag_of_completeness import *"
   ]
  },
  {
   "cell_type": "markdown",
   "metadata": {},
   "source": [
    "## II. Reading a catalog file from dataset folder"
   ]
  },
  {
   "cell_type": "code",
   "execution_count": 2,
   "metadata": {},
   "outputs": [
    {
     "name": "stdout",
     "output_type": "stream",
     "text": [
      "number of catalog rows    : 1193\n",
      "number of catalog columns : 4\n"
     ]
    },
    {
     "data": {
      "text/html": [
       "<div>\n",
       "<style scoped>\n",
       "    .dataframe tbody tr th:only-of-type {\n",
       "        vertical-align: middle;\n",
       "    }\n",
       "\n",
       "    .dataframe tbody tr th {\n",
       "        vertical-align: top;\n",
       "    }\n",
       "\n",
       "    .dataframe thead th {\n",
       "        text-align: right;\n",
       "    }\n",
       "</style>\n",
       "<table border=\"1\" class=\"dataframe\">\n",
       "  <thead>\n",
       "    <tr style=\"text-align: right;\">\n",
       "      <th></th>\n",
       "      <th>X</th>\n",
       "      <th>Y</th>\n",
       "      <th>Z</th>\n",
       "      <th>M</th>\n",
       "    </tr>\n",
       "  </thead>\n",
       "  <tbody>\n",
       "    <tr>\n",
       "      <th>0</th>\n",
       "      <td>128.263141</td>\n",
       "      <td>-3.592250</td>\n",
       "      <td>-9.398</td>\n",
       "      <td>3.263406</td>\n",
       "    </tr>\n",
       "    <tr>\n",
       "      <th>1</th>\n",
       "      <td>128.379281</td>\n",
       "      <td>-3.619712</td>\n",
       "      <td>-9.167</td>\n",
       "      <td>4.357416</td>\n",
       "    </tr>\n",
       "    <tr>\n",
       "      <th>2</th>\n",
       "      <td>128.356440</td>\n",
       "      <td>-3.467614</td>\n",
       "      <td>-12.305</td>\n",
       "      <td>2.573589</td>\n",
       "    </tr>\n",
       "    <tr>\n",
       "      <th>3</th>\n",
       "      <td>128.351284</td>\n",
       "      <td>-3.615661</td>\n",
       "      <td>-11.570</td>\n",
       "      <td>2.970120</td>\n",
       "    </tr>\n",
       "    <tr>\n",
       "      <th>4</th>\n",
       "      <td>128.357585</td>\n",
       "      <td>-3.619155</td>\n",
       "      <td>-10.153</td>\n",
       "      <td>2.966920</td>\n",
       "    </tr>\n",
       "  </tbody>\n",
       "</table>\n",
       "</div>"
      ],
      "text/plain": [
       "            X         Y       Z         M\n",
       "0  128.263141 -3.592250  -9.398  3.263406\n",
       "1  128.379281 -3.619712  -9.167  4.357416\n",
       "2  128.356440 -3.467614 -12.305  2.573589\n",
       "3  128.351284 -3.615661 -11.570  2.970120\n",
       "4  128.357585 -3.619155 -10.153  2.966920"
      ]
     },
     "execution_count": 2,
     "metadata": {},
     "output_type": "execute_result"
    }
   ],
   "source": [
    "file_name = 'dataset\\\\Magnitude_Catalog.csv'\n",
    "catalog = pd.read_csv(file_name)\n",
    "\n",
    "print(f\"number of catalog rows    : {catalog.shape[0]}\")\n",
    "print(f\"number of catalog columns : {catalog.shape[1]}\")\n",
    "catalog.head()"
   ]
  },
  {
   "cell_type": "markdown",
   "metadata": {},
   "source": [
    "## III. Calculating Mc and maxmag for b-value calculation and plotting the frequency-magnitude distribution (FMD)"
   ]
  },
  {
   "cell_type": "markdown",
   "metadata": {},
   "source": [
    "Mc estimation method options:\n",
    ">1. `maximum curvature (maxc)`\n",
    "2. `goodness-of-fit test (gft)`\n",
    "3. `Mc by b-value stability (mbs)`\n",
    "\n",
    "Maximum magnitude estimation method :\n",
    ">`maxmag = 𝑋𝑚𝑎𝑥1 + (𝑋𝑚𝑎𝑥1 – 𝑋𝑚𝑎𝑥2)`\n",
    "\n",
    ">where :\n",
    "maxmag = maximum magnitude,\n",
    "Xmax1 = the biggest magnitude,\n",
    "Xmax2 = the second biggest magnitude \n",
    "\n",
    "Sources: \n",
    "1. Mignan, A. dan Woessner, J. (2012): Estimating The Magnitude of completeness in Earthquake Catalogs. Community Online Resource for Statistical Seismicity Analysis. \n",
    "2. Kijko, A. dan Funk, C. W. (1994): The Assesment of Seismic Hazard in Mines. The Journal of the South African Institute of Mining and Metallurgy."
   ]
  },
  {
   "cell_type": "code",
   "execution_count": 3,
   "metadata": {},
   "outputs": [
    {
     "name": "stdout",
     "output_type": "stream",
     "text": [
      "Magnitude of Completeness : 2.9\n",
      "Maximum magnitude : 5.4\n"
     ]
    },
    {
     "data": {
      "image/png": "[encoded data removed]",
      "text/plain": [
       "<Figure size 432x288 with 1 Axes>"
      ]
     },
     "metadata": {
      "needs_background": "light"
     },
     "output_type": "display_data"
    }
   ],
   "source": [
    "# magnitude of completeness estimation method\n",
    "mc_method       = 'mbs'\n",
    "\n",
    "# calculating Mc & maxmag\n",
    "mag             = catalog['M']\n",
    "fmd_data        = fmd_details(mag, mc_method)\n",
    "mc              = fmd_data['mc']\n",
    "maxmag          = fmd_data['maxmag']\n",
    "\n",
    "print(f\"Magnitude of Completeness : {mc}\")\n",
    "print(f\"Maximum magnitude : {maxmag}\")\n",
    "\n",
    "# plotting FMD, Mc, maxmag\n",
    "plot_noncum_fmd(fmd_data)"
   ]
  },
  {
   "cell_type": "markdown",
   "metadata": {},
   "source": [
    "## IV. Calculating b-value, its uncertainty, and its 95% confidence interval"
   ]
  },
  {
   "cell_type": "markdown",
   "metadata": {},
   "source": [
    "Curve fitting method options:\n",
    ">1. `LM with Gaussian residual (b-value glog)`\n",
    "2. `GLM with Gaussian residual (b-value glin)`\n",
    "3. `GLM with Poisson residual (b-value pois)`\n",
    "\n",
    "Source :\n",
    "1. Naylor, M., Greenhough, J., McCloskey, J., Bell, A. F., dan Main, I. G. (2009): Statistical evaluation of characteristic earthquakes in the frequency magnitudo distributions of Sumatra and other subduction zone regions, Geophysical Research Letters, 36."
   ]
  },
  {
   "cell_type": "code",
   "execution_count": 5,
   "metadata": {},
   "outputs": [
    {
     "data": {
      "image/png": "[encoded data removed]",
      "text/plain": [
       "<Figure size 432x288 with 1 Axes>"
      ]
     },
     "metadata": {
      "needs_background": "light"
     },
     "output_type": "display_data"
    }
   ],
   "source": [
    "# curve fitting method\n",
    "cv_method    = 'b-value pois'\n",
    "\n",
    "# b-value and its uncertainty calculation\n",
    "cv_data     = generate_autobvalue(cv_method, fmd_data)\n",
    "bvalue      = cv_data['bvalue']\n",
    "sd_bvalue   = cv_data['unc']\n",
    "\n",
    "# plotting b-value and its 95% of confidence interval\n",
    "plot_bvalue(cv_data, cv_method)"
   ]
  },
  {
   "cell_type": "code",
   "execution_count": null,
   "metadata": {},
   "outputs": [],
   "source": []
  }
 ],
 "metadata": {
  "celltoolbar": "Attachments",
  "kernelspec": {
   "display_name": "Python 3",
   "language": "python",
   "name": "python3"
  },
  "language_info": {
   "codemirror_mode": {
    "name": "ipython",
    "version": 3
   },
   "file_extension": ".py",
   "mimetype": "text/x-python",
   "name": "python",
   "nbconvert_exporter": "python",
   "pygments_lexer": "ipython3",
   "version": "3.7.4"
  }
 },
 "nbformat": 4,
 "nbformat_minor": 4
}
