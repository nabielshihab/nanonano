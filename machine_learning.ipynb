{
 "cells": [
  {
   "cell_type": "markdown",
   "metadata": {},
   "source": [
    "author : \n",
    "> Nabiel Husein Shihab / nabielshihab@hotmail.com"
   ]
  },
  {
   "cell_type": "markdown",
   "metadata": {},
   "source": [
    "# Sedikit hal tentang Machine Learning\n",
    "\n",
    "Sebelumya, kalian perlu tahu hubungan antara *Artificial Intelligence (AI)*, *machine learning*, *deep learning*, dan *artificial neural network (ANN)*. Gambar di bawah megilustrasikan hubungan mereka. Masih banyak orang yang belum tau hubungan tersebut.\n",
    "\n",
    "<img src=\"Figures/ANN_1.png\" width=\"700\"/>\n",
    "\n",
    "\n",
    "Dalam pemrograman klasik, kita akan memasukkan beberapa *rules* (program) dan data input yang akan diolah sesuai dengan *rules* tersebut untuk menghasilkan jawaban. tetapi dengan *machine learning*, kita memasukkan data input dan juga jawaban yang berkaitan dengan data tersebut untuk menghasilkan *rules* antara data input dan jawaban. *Rules* tersebut dapat diterapkan untuk data input yang baru untuk mendapatkan jawaban terhadap data input tersebut.\n",
    " \n",
    "<img src=\"Figures/ANN_2.png\" width=\"500\"/>\n",
    "\n",
    "Sistem *machine learning* adalah pelatihan, bukan diprogram secara eksplisit. Sistem tersebut akan dihidangkan beberapa contoh yang relevan untuk suatu tugas, lalu akan ditemukan struktur statistik dalam contoh-contoh tersebut yang pada akhirnya sistem akan menghasilkan *rules* untuk otomasi tugas tadi."
   ]
  },
  {
   "cell_type": "markdown",
   "metadata": {},
   "source": [
    "## Kenapa kita gunakan *deep Learning*? Apa itu *deep Learning*? \n",
    "\n",
    "*Deep Learning* tidak memerlukan pemahaman yang jelas mengenai mekanisme, output hanya tergantung pada bobot koneksi antara input dan output sistem, yang nilainya dapat diperoleh dari mempelajari data latihan. Metode ini sangat efektif dalam menyelesaikan *fuzzy problems* yang memiliki hukum inheren tertentu, tetapi mekanismenya belum jelas. *Deep learning* adalah salah satu bagian dalam *machine learning*. \"*Deep*\" di dalam *deep learning* tidak mengacu pada pemahaman lebih dalam apapun yang dicapai oleh pendekatan ini, sebenarnya ini mengacu pada lapisan-lapisan berturut-turut. Berapa banyak lapisan yang berkontribusi pada model data disebut *depth* dari model. Dalam *deep learning*, lapisan-lapisan tersebut akan dilatih melalui model yang disebut *neural network*. Istilah *neural network* mengacu ke neurobiologi, tetapi meskipun beberapa konsep sentral dalam *deep learning* dikembangkan sebagian dengan menggambar inspirasi dari pemahaman kita tentang otak, model *deep learning* bukanlah model dari otak. Tidak ada bukti bahwa otak mengimplementasikan sesuatu seperti mekanisme pembelajaran yang digunakan dalam model *deep learning*. Terdapat beberapa metode yang termasuk di dalam *deep learning*, salah satunya adalah *artificial neural networks (ANN)*.\n"
   ]
  },
  {
   "cell_type": "markdown",
   "metadata": {},
   "source": [
    "## Bagaimana ANN bekerja?\n",
    "\n",
    "Pola informasi dari dataset akan dimasukkan ke dalam *network* melalui *input neuron*, yang memicu lapisan *hidden neuron*, dan ini akan tiba di *output neuron*. \n",
    "\n",
    "<img src=\"Figures/ANN_3.png\" width=\"700\"/>\n",
    "\n",
    "Tidak semua neuron \"terpicu\" sepanjang waktu. Setiap neuron menerima input dari neuron sebelah kiri, dan input dikalikan dengan bobot koneksi yang dilaluinya. Setiap neuron menjumlahkan semua input yang diterimanya dan jika jumlahnya lebih dari nilai ambang tertentu, neuron “terpicu” dan memicu neuron yang terhubung dengannya (neuron di sebelah kanannya). "
   ]
  },
  {
   "cell_type": "markdown",
   "metadata": {},
   "source": [
    "## Bagaimana ANN \"belajar\"?"
   ]
  },
  {
   "cell_type": "markdown",
   "metadata": {},
   "source": [
    "Chollet (2018) menyatakan bahwa pelatihan model ANN berputar di sekitar objek – objek berikut:\n",
    "1.\tLapisan – lapisan, yang dikombinasikan menjadi jaringan (network) atau model,\n",
    "2.\tData input dan target yang sesuai,\n",
    "3.\tLoss function, kuantitas yang akan diminimalisir selama proses pembelajaran model berlangsung,\n",
    "4.\tOptimizer, menentukan bagaimana model akan diperbarui berdasarkan loss function. Optimizer mengimplementasikan varian spesifik dari penurunan gradien stokastik (SGD)\n",
    "\n",
    "<img src=\"Figures/ANN_4.png\" width=\"400\"/>\n",
    "\n",
    "Gambar di atas menggambarkan hubungan antara keempat objek tersebut. Model, yang terdiri dari beberapa lapisan yang terhubung satu sama lain, memetakan data input menjadi prediksi. Selanjutnya loss function akan membandingkan prediksi tersebut dengan target, menghasilkan loss value, ukuran seberapa baik prediksi model cocok dengan apa yang diekspektasikan. Optimizer menggunakan loss value tersebut untuk memperbarui bobot – bobot (weights) dalam model.\n"
   ]
  },
  {
   "cell_type": "markdown",
   "metadata": {},
   "source": [
    "### Sources: \n",
    "1. Chollet, F. (2018): Deep learning with Python, Manning Publication\n",
    "2. https://stats.stackexchange.com/questions/154879/a-list-of-cost-functions-used-in-neural-networks-alongside-applications"
   ]
  },
  {
   "cell_type": "code",
   "execution_count": null,
   "metadata": {},
   "outputs": [],
   "source": []
  }
 ],
 "metadata": {
  "kernelspec": {
   "display_name": "Python 3",
   "language": "python",
   "name": "python3"
  },
  "language_info": {
   "codemirror_mode": {
    "name": "ipython",
    "version": 3
   },
   "file_extension": ".py",
   "mimetype": "text/x-python",
   "name": "python",
   "nbconvert_exporter": "python",
   "pygments_lexer": "ipython3",
   "version": "3.7.4"
  }
 },
 "nbformat": 4,
 "nbformat_minor": 4
}
