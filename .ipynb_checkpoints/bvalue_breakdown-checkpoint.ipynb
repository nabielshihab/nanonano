{
 "cells": [
  {
   "cell_type": "markdown",
   "metadata": {},
   "source": [
    "author : \n",
    "> Nabiel Husein Shihab / nabielshihab@hotmail.com"
   ]
  },
  {
   "cell_type": "markdown",
   "metadata": {},
   "source": [
    "# **Apa itu b-value? Kenapa kita perlu analisis b-value?**\n",
    "\n",
    "***\n",
    "Terdapat sebuah hubungan sistematis antara **magnitudo gempa bumi (M)** dan **frekuensi kemunculannya (N)** dalam suatu daerah dan periode waktu tertentu, yaitu **Gutenberg-Richter (GR) Law** (Naylor dkk., 2009). \n",
    "\n",
    "\n",
    "Gutenberg–Richter Law dapat diungkapkan sebagai berikut :\n",
    "\n",
    "> `log_10⁡(𝑁) = 𝑎 − 𝑏𝑀`\n",
    "\n",
    ">Nilai konstanta 𝑎 berkaitan dengan jumlah total event mikroseismik di atas ***Mc (magnitude of completeness)***. ***Mc*** didefinisikan sebagai magnitudo terendah di mana 100% gempa bumi dalam volume ruang-waktu terdeteksi.\n",
    ">Nilai konstanta ***b (b-value)*** sering dikaitkan dengan kondisi stress batuan pada suatu zona tertentu.\n",
    "\n",
    "<img src=\"Figures/bvalue_0.png\" width=\"700\"/>\n",
    "\n",
    "GR law adalah salah satu dasar teori yang digunakan dalam interpretasi data seismik dan **analisa kebencanaan** (Wesseloo, 2014). Chun-lai dkk. (2009) menyatakan bahwa konstanta 𝑏 (b-value) merupakan hubungan yang proporsional antara event gempabumi yang besar dan kecil. Perubahan b-value pada suatu area menandakan keadaan gangguan pada batuan medium. Perubahan b-value berhubungan dengan seluruh proses dari aktivitas gempabumi. Wesseloo (2014) menyatakan bahwa evaluasi variasi b-value spasial merupakan salah satu kunci dalam peta kebencanaan seismik. Estimasi b-value spasial berguna untuk interpretasi mekanisme batuan secara umum dan evaluasi kebencanaan seismik. Parameter b-value juga merupakan parameter yang berharga dalam interpretasi deformasi massa batuan dan mekanisme failure. Peningkatan dari heterogenitas struktur material dapat menghasilkan b-value yang tinggi, sedangkan kenaikan dari applied shear stress atau effective stress dapat menurunkan b-value. Interpretasi umum b-value dalam mekanisme deformasi massa batuan dapat dilihat pada tabel di bawah.\n",
    "\n",
    "<img src=\"Figures/bvalue_1.png\" width=\"700\"/>\n"
   ]
  },
  {
   "cell_type": "markdown",
   "metadata": {},
   "source": [
    "# **Flowchart**"
   ]
  },
  {
   "cell_type": "markdown",
   "metadata": {},
   "source": [
    "# <img src=\"Figures/bvalue_2.png\" width=\"400\"/>\n",
    "\n",
    "***"
   ]
  },
  {
   "cell_type": "markdown",
   "metadata": {},
   "source": [
    "# **`LET'S CODE`**"
   ]
  },
  {
   "cell_type": "markdown",
   "metadata": {},
   "source": [
    "### Import Modules"
   ]
  },
  {
   "cell_type": "code",
   "execution_count": 1,
   "metadata": {},
   "outputs": [],
   "source": [
    "from library.mag_of_completeness import *\n",
    "from library.curve_fitting_method import *\n",
    "from library.visualization import *\n",
    "\n",
    "import pandas as pd\n",
    "import matplotlib.pyplot as plt"
   ]
  },
  {
   "cell_type": "markdown",
   "metadata": {},
   "source": [
    "## 1. Buka katalog"
   ]
  },
  {
   "cell_type": "code",
   "execution_count": 2,
   "metadata": {},
   "outputs": [
    {
     "name": "stdout",
     "output_type": "stream",
     "text": [
      "number of catalog rows    : 1193\n",
      "number of catalog columns : 4\n"
     ]
    },
    {
     "data": {
      "text/html": [
       "<div>\n",
       "<style scoped>\n",
       "    .dataframe tbody tr th:only-of-type {\n",
       "        vertical-align: middle;\n",
       "    }\n",
       "\n",
       "    .dataframe tbody tr th {\n",
       "        vertical-align: top;\n",
       "    }\n",
       "\n",
       "    .dataframe thead th {\n",
       "        text-align: right;\n",
       "    }\n",
       "</style>\n",
       "<table border=\"1\" class=\"dataframe\">\n",
       "  <thead>\n",
       "    <tr style=\"text-align: right;\">\n",
       "      <th></th>\n",
       "      <th>X</th>\n",
       "      <th>Y</th>\n",
       "      <th>Z</th>\n",
       "      <th>M</th>\n",
       "    </tr>\n",
       "  </thead>\n",
       "  <tbody>\n",
       "    <tr>\n",
       "      <th>0</th>\n",
       "      <td>128.263141</td>\n",
       "      <td>-3.592250</td>\n",
       "      <td>-9.398</td>\n",
       "      <td>3.263406</td>\n",
       "    </tr>\n",
       "    <tr>\n",
       "      <th>1</th>\n",
       "      <td>128.379281</td>\n",
       "      <td>-3.619712</td>\n",
       "      <td>-9.167</td>\n",
       "      <td>4.357416</td>\n",
       "    </tr>\n",
       "    <tr>\n",
       "      <th>2</th>\n",
       "      <td>128.356440</td>\n",
       "      <td>-3.467614</td>\n",
       "      <td>-12.305</td>\n",
       "      <td>2.573589</td>\n",
       "    </tr>\n",
       "    <tr>\n",
       "      <th>3</th>\n",
       "      <td>128.351284</td>\n",
       "      <td>-3.615661</td>\n",
       "      <td>-11.570</td>\n",
       "      <td>2.970120</td>\n",
       "    </tr>\n",
       "    <tr>\n",
       "      <th>4</th>\n",
       "      <td>128.357585</td>\n",
       "      <td>-3.619155</td>\n",
       "      <td>-10.153</td>\n",
       "      <td>2.966920</td>\n",
       "    </tr>\n",
       "  </tbody>\n",
       "</table>\n",
       "</div>"
      ],
      "text/plain": [
       "            X         Y       Z         M\n",
       "0  128.263141 -3.592250  -9.398  3.263406\n",
       "1  128.379281 -3.619712  -9.167  4.357416\n",
       "2  128.356440 -3.467614 -12.305  2.573589\n",
       "3  128.351284 -3.615661 -11.570  2.970120\n",
       "4  128.357585 -3.619155 -10.153  2.966920"
      ]
     },
     "execution_count": 2,
     "metadata": {},
     "output_type": "execute_result"
    }
   ],
   "source": [
    "file_name = 'dataset\\\\Magnitude_Catalog.csv'\n",
    "catalog = pd.read_csv(file_name)\n",
    "\n",
    "print(f\"number of catalog rows    : {catalog.shape[0]}\")\n",
    "print(f\"number of catalog columns : {catalog.shape[1]}\")\n",
    "catalog.head()"
   ]
  },
  {
   "cell_type": "markdown",
   "metadata": {},
   "source": [
    "## 2. Menghitung Mc dan maxmag\n",
    "\n",
    "Dua hal ini merupakan parameter yang diperlukan untuk menghitung b-value. Namun sebelum kita menghitung Mc dan maxmag, kita perlu melihat **distribusi frekuensi-magnitudo (DFM)** dari sebuah katalog. \n",
    "\n",
    "### 2.1 Membentuk DFM\n",
    "Terdapat madzhab berbeda untuk menghitung b-value. Ada yang berpendapat bahwa b-value harus dihitung dari DFM kumulatif, namun ada juga pendapat mengatakan b-value dihitung dari DFM nonkumulatif. Dalam sesi ini, kita akan menggunakan DFM nonkumulatif.  Untuk membentuk DFM nonkumulatif, kita akan memanggil fungsi `fmd` yang ada di dalam modul `mag_of_completeness.py`."
   ]
  },
  {
   "cell_type": "code",
   "execution_count": 3,
   "metadata": {},
   "outputs": [
    {
     "data": {
      "image/png": "[encoded data removed]",
      "text/plain": [
       "<Figure size 432x288 with 1 Axes>"
      ]
     },
     "metadata": {
      "needs_background": "light"
     },
     "output_type": "display_data"
    }
   ],
   "source": [
    "# ekstrak magnitudo dari katalog dan menentukan binwidth untuk pembentukan DFM\n",
    "mag = catalog['M']\n",
    "mbin = 0.1\n",
    "\n",
    "# membentuk DFM\n",
    "FMD = fmd(mag, mbin)\n",
    "m = FMD[0]\n",
    "cum = FMD[1]\n",
    "noncum = FMD[2]\n",
    "\n",
    "# plot DFM\n",
    "plt.figure()\n",
    "plt.scatter(m, noncum, marker = \".\", color = \"k\", label = \"noncumulative FMD\")\n",
    "plt.title(\"Frequency-Magnitude Distribution\")\n",
    "plt.xlabel(\"Magnitude (Mw)\")\n",
    "plt.ylabel(\"Frequency\")\n",
    "plt.legend()\n",
    "plt.grid()"
   ]
  },
  {
   "cell_type": "markdown",
   "metadata": {},
   "source": [
    "### 2.2 Menghitung Mc dan maxmag\n",
    "\n",
    "pilihan metode estimasi Mc:\n",
    ">1. `maximum curvature (maxc)`\n",
    "2. `goodness-of-fit test (gft)`\n",
    "3. `Mc by b-value stability (mbs)`\n",
    "\n",
    "metode estimasi maximum magnitude:\n",
    ">`maxmag = 𝑋𝑚𝑎𝑥1 + (𝑋𝑚𝑎𝑥1 – 𝑋𝑚𝑎𝑥2)`\n",
    "\n",
    "\n",
    "> maxmag = maximum magnitude,\n",
    "Xmax1 = magnitudo terbesar pertama dalam katalog data,\n",
    "Xmax2 = magnitude terbesar kedua dalam katalog data\n",
    "\n",
    "\n",
    "Ketiga metode estimasi Mc tersebut dapat diterapkan dengan memanggil masing-masing fungsinya ke dalam program ini. Namun kali ini kita akan mencoba metode `maxc`. Dikarenakan fungsi estimasi Mc berada di dalam modul `mag_of_completeness.py` maka kita tidak perlu import lagi."
   ]
  },
  {
   "cell_type": "code",
   "execution_count": 4,
   "metadata": {},
   "outputs": [
    {
     "name": "stdout",
     "output_type": "stream",
     "text": [
      "Magnitude of Completeness : 2.6\n",
      "Maximum magnitude : 5.4\n"
     ]
    }
   ],
   "source": [
    "# metode estimasi Mc\n",
    "mc_method = maxc\n",
    "\n",
    "# melakukan bootstrap resampling sebanyak nbsample\n",
    "nbsample = 200\n",
    "mc_bootstrap = np.zeros(nbsample)\n",
    "for i in range(nbsample):\n",
    "    magbs = pd.Series(np.random.choice(mag, size=len(mag)))\n",
    "    mc_bootstrap[i] = mc_method(magbs, mbin)[0]\n",
    "\n",
    "# ekstrak nilai rata-rata dan standar deviasi dari Mc bootstrap \n",
    "mc_mean = np.nanmean(mc_bootstrap)\n",
    "mc_sd = np.nanstd(mc_bootstrap)\n",
    "mc_sdl = mc_mean - mc_sd\n",
    "mc_sdr = mc_mean + mc_sd\n",
    "\n",
    "# fiksasi Mc\n",
    "mc_test = round_up(mc_mean)\n",
    "if mc_test <= mc_mean + mc_sd:\n",
    "    mc = mc_test\n",
    "else:\n",
    "    mc = round(mc_mean, 1)\n",
    "\n",
    "# estimasi maxmag\n",
    "sorted_mag = sorted(mag, reverse=True)\n",
    "max1 = sorted_mag[0]\n",
    "for i in range(len(sorted_mag)):\n",
    "    if sorted_mag[i] != max1:\n",
    "        max2 = sorted_mag[i]\n",
    "        break\n",
    "maxmag = round(max1 + (max1 - max2), 1)\n",
    "# maxmag = round(max1, 1)\n",
    "\n",
    "print(f\"Magnitude of Completeness : {mc}\")\n",
    "print(f\"Maximum magnitude : {maxmag}\")"
   ]
  },
  {
   "cell_type": "markdown",
   "metadata": {},
   "source": [
    "### 2.3 Membentuk DFM untuk perhitungan b-value\n",
    "\n",
    "Untuk membentuk DFM yang dibatasi oleh Mc dan maxmag, kita akan menggunakan fungsi `fmd_bvalue` yang ada di dalam modul `mag_of_completeness.py`. Namun karena kita sudah memanggil semua fungsi di dalam modul tersebut pada tahap sebelumnya, maka kita tidak perlu import lagi"
   ]
  },
  {
   "cell_type": "code",
   "execution_count": 5,
   "metadata": {},
   "outputs": [
    {
     "data": {
      "image/png": "[encoded data removed]",
      "text/plain": [
       "<Figure size 432x288 with 1 Axes>"
      ]
     },
     "metadata": {
      "needs_background": "light"
     },
     "output_type": "display_data"
    }
   ],
   "source": [
    "# seleksi magnitudo berdasarkan Mc dan maxmag\n",
    "mag_bvalue = mag[(mag >= mc) & (mag <= maxmag)]\n",
    "\n",
    "# membentuk DFM untuk perhitungan b-value\n",
    "FMD_bvalue = fmd_bvalue(mag_bvalue, mc, maxmag, mbin)\n",
    "x = FMD_bvalue[0]\n",
    "cum_bvalue = FMD_bvalue[1]\n",
    "y = FMD_bvalue[2]\n",
    "d1 = pd.DataFrame({\"x\": np.array(x), \"y\": np.array(y)})\n",
    "\n",
    "# membentuk variabel xo dan yo\n",
    "yo = y[list(np.where(y != 0)[0])]\n",
    "xo = x[list(np.where(y != 0)[0])]\n",
    "log_yo = [math.log10(elem) for elem in yo]\n",
    "d2 = pd.DataFrame({\"xo\": np.array(xo), \"yo\": np.array(yo), \"log_yo\": np.array(log_yo)})\n",
    "\n",
    "# plot DFM detail\n",
    "plt.figure()\n",
    "plt.scatter(m, noncum, marker = \".\", color = \"k\", label = \"noncumulative FMD\")\n",
    "plt.axvline(mc_mean, linestyle = \"solid\", color = \"green\", linewidth = 0.7, label = \"Mc mean\")\n",
    "plt.axvline(mc_sdl, linestyle = \"dashed\", color = \"green\", linewidth = 0.7, label = \"sd Mc\")\n",
    "plt.axvline(mc_sdr, linestyle = \"dashed\", color = \"green\", linewidth = 0.7)\n",
    "plt.axvline(mc, linestyle = \"solid\", color = \"blue\", linewidth = 0.7, label = \"Mc \")\n",
    "plt.axvline(maxmag, linestyle = \"solid\", color = \"red\", linewidth = 0.7, label = \"Max magnitude\")\n",
    "plt.title(\"Frequency-Magnitude Distribution\")\n",
    "plt.xlabel(\"Magnitude (Mw)\")\n",
    "plt.ylabel(\"Frequency\")\n",
    "plt.legend()\n",
    "plt.grid()"
   ]
  },
  {
   "cell_type": "code",
   "execution_count": 6,
   "metadata": {},
   "outputs": [
    {
     "data": {
      "image/png": "[encoded data removed]",
      "text/plain": [
       "<Figure size 432x288 with 1 Axes>"
      ]
     },
     "metadata": {
      "needs_background": "light"
     },
     "output_type": "display_data"
    }
   ],
   "source": [
    "# plot DFM b-value\n",
    "plt.figure()\n",
    "plt.scatter(x, y, marker = \".\", color = \"k\", label = \"noncumulative FMD\")\n",
    "plt.title(\"FMD b-value\")\n",
    "plt.xlabel(\"Magnitude (Mw)\")\n",
    "plt.ylabel(\"Frequency\")\n",
    "plt.legend()\n",
    "plt.grid()"
   ]
  },
  {
   "cell_type": "markdown",
   "metadata": {},
   "source": [
    "DFM inilah yang akan digunakan untuk menghitung b-value."
   ]
  },
  {
   "cell_type": "markdown",
   "metadata": {},
   "source": [
    "## 3. Menghitung b-value, ketidakpastiannya, dan 95% confidence interval"
   ]
  },
  {
   "cell_type": "markdown",
   "metadata": {},
   "source": [
    "pilihan metode Curve fitting:\n",
    ">1. `LM with Gaussian residual (b-value glog)`\n",
    "2. `GLM with Gaussian residual (b-value glin)`\n",
    "3. `GLM with Poisson residual (b-value pois)`\n",
    "\n",
    "\n",
    "Ketiga metode curve fitting tersebut dapat diterapkan dengan memanggil masing-masing fungsinya ke dalam program ini. Namun kali ini kita akan mencoba metode `b-value pois`. Dikarenakan fungsi curve fitting berada di dalam modul `curve_fitting_method.py` maka kita perlu import fungsi tersebut."
   ]
  },
  {
   "cell_type": "code",
   "execution_count": 8,
   "metadata": {},
   "outputs": [
    {
     "data": {
      "image/png": "[encoded data removed]",
      "text/plain": [
       "<Figure size 432x288 with 1 Axes>"
      ]
     },
     "metadata": {
      "needs_background": "light"
     },
     "output_type": "display_data"
    }
   ],
   "source": [
    "# curve fitting\n",
    "cv_data = fit_data_with_poisson(d1,x, xo, log_yo)\n",
    "\n",
    "# plot b-value dan 95% confidence interval\n",
    "plot_bvalue(cv_data, 'b-value pois')"
   ]
  },
  {
   "cell_type": "markdown",
   "metadata": {},
   "source": [
    "### Daftar Pustaka:\n",
    "1. Chun-lai, W., Ai-xiang, W., Xiao-hui, L., dan Rui, L. (2009): Study on fractal characteristics of b-value with microeismic activity in deep mining, Procedia Earth and Planetary Science. \n",
    "2. Naylor, M., Greenhough, J., McCloskey, J., Bell, A. F., dan Main, I. G. (2009): Statistical evaluation of characteristic earthquakes in the frequencymagnitudo distributions of Sumatra and other subduction zone regions, Geophysical Research Letters, 36.\n",
    "3. Kijko, A. dan Funk, C. W. (1994): The Assesment of Seismic Hazard in Mines. The Journal of the South African Institute of Mining and Metallurgy.\n",
    "4. Mignan, A. dan Woessner, J. (2012): Estimating The Magnitude of completeness in Earthquake Catalogs. Community Online Resource for Statistical Seismicity Analysis. \n",
    "5. Wesseloo, J. (2014): Evaluation of the spatial variation of bvalue, The Journal of The Southern African Institute of Mining and Metallurgy, 114."
   ]
  },
  {
   "cell_type": "code",
   "execution_count": null,
   "metadata": {},
   "outputs": [],
   "source": []
  }
 ],
 "metadata": {
  "kernelspec": {
   "display_name": "Python 3",
   "language": "python",
   "name": "python3"
  },
  "language_info": {
   "codemirror_mode": {
    "name": "ipython",
    "version": 3
   },
   "file_extension": ".py",
   "mimetype": "text/x-python",
   "name": "python",
   "nbconvert_exporter": "python",
   "pygments_lexer": "ipython3",
   "version": "3.7.4"
  }
 },
 "nbformat": 4,
 "nbformat_minor": 4
}
