{
 "cells": [
  {
   "cell_type": "markdown",
   "metadata": {},
   "source": [
    "author : \n",
    "> Nabiel Husein Shihab / nabielshihab@hotmail.com"
   ]
  },
  {
   "cell_type": "markdown",
   "metadata": {},
   "source": [
    "## **Estimating Magnitude of Completeness and b-value Automatically**\n",
    "***"
   ]
  },
  {
   "cell_type": "markdown",
   "metadata": {},
   "source": [
    "<div class=\"alert alert-block alert-warning\">\n",
    "<b>Flowchart</b>\n",
    "</div>\n",
    "\n",
    "\n",
    "# <img src=\"Figures/Picture_auto.png\" width=\"900\"/>\n",
    "\n",
    "***"
   ]
  },
  {
   "cell_type": "markdown",
   "metadata": {},
   "source": [
    "## I. Importing functions from other modules in library folder."
   ]
  },
  {
   "cell_type": "code",
   "execution_count": 1,
   "metadata": {},
   "outputs": [
    {
     "name": "stderr",
     "output_type": "stream",
     "text": [
      "c:\\users\\user\\appdata\\local\\programs\\python\\python37\\lib\\site-packages\\statsmodels\\tools\\_testing.py:19: FutureWarning: pandas.util.testing is deprecated. Use the functions in the public API at pandas.testing instead.\n",
      "  import pandas.util.testing as tm\n"
     ]
    }
   ],
   "source": [
    "from library.curve_fitting_method import *\n",
    "from library.visualization import *\n",
    "from library.mag_of_completeness import *"
   ]
  },
  {
   "cell_type": "markdown",
   "metadata": {},
   "source": [
    "## II. Reading a catalog file from dataset folder"
   ]
  },
  {
   "cell_type": "code",
   "execution_count": 6,
   "metadata": {},
   "outputs": [
    {
     "name": "stdout",
     "output_type": "stream",
     "text": [
      "number of catalog rows    : 5\n",
      "number of catalog columns : 8\n"
     ]
    },
    {
     "data": {
      "text/html": [
       "<div>\n",
       "<style scoped>\n",
       "    .dataframe tbody tr th:only-of-type {\n",
       "        vertical-align: middle;\n",
       "    }\n",
       "\n",
       "    .dataframe tbody tr th {\n",
       "        vertical-align: top;\n",
       "    }\n",
       "\n",
       "    .dataframe thead th {\n",
       "        text-align: right;\n",
       "    }\n",
       "</style>\n",
       "<table border=\"1\" class=\"dataframe\">\n",
       "  <thead>\n",
       "    <tr style=\"text-align: right;\">\n",
       "      <th></th>\n",
       "      <th>X</th>\n",
       "      <th>Y</th>\n",
       "      <th>Z</th>\n",
       "      <th>M</th>\n",
       "      <th>Date</th>\n",
       "      <th>Year</th>\n",
       "      <th>Month</th>\n",
       "      <th>Day</th>\n",
       "    </tr>\n",
       "  </thead>\n",
       "  <tbody>\n",
       "    <tr>\n",
       "      <th>0</th>\n",
       "      <td>117.120</td>\n",
       "      <td>-5.170</td>\n",
       "      <td>100.00</td>\n",
       "      <td>5.30000</td>\n",
       "      <td>4/10/1995</td>\n",
       "      <td>1995</td>\n",
       "      <td>4</td>\n",
       "      <td>10</td>\n",
       "    </tr>\n",
       "    <tr>\n",
       "      <th>1</th>\n",
       "      <td>115.890</td>\n",
       "      <td>-5.850</td>\n",
       "      <td>33.00</td>\n",
       "      <td>5.20000</td>\n",
       "      <td>3/25/1998</td>\n",
       "      <td>1998</td>\n",
       "      <td>3</td>\n",
       "      <td>25</td>\n",
       "    </tr>\n",
       "    <tr>\n",
       "      <th>2</th>\n",
       "      <td>115.938</td>\n",
       "      <td>-5.980</td>\n",
       "      <td>4.84</td>\n",
       "      <td>4.63605</td>\n",
       "      <td>8/22/2013</td>\n",
       "      <td>2013</td>\n",
       "      <td>8</td>\n",
       "      <td>22</td>\n",
       "    </tr>\n",
       "    <tr>\n",
       "      <th>3</th>\n",
       "      <td>116.479</td>\n",
       "      <td>-6.538</td>\n",
       "      <td>610.00</td>\n",
       "      <td>7.10000</td>\n",
       "      <td>8/11/1937</td>\n",
       "      <td>1937</td>\n",
       "      <td>8</td>\n",
       "      <td>11</td>\n",
       "    </tr>\n",
       "    <tr>\n",
       "      <th>4</th>\n",
       "      <td>115.865</td>\n",
       "      <td>-6.613</td>\n",
       "      <td>554.50</td>\n",
       "      <td>4.93668</td>\n",
       "      <td>2/7/1998</td>\n",
       "      <td>1998</td>\n",
       "      <td>2</td>\n",
       "      <td>7</td>\n",
       "    </tr>\n",
       "  </tbody>\n",
       "</table>\n",
       "</div>"
      ],
      "text/plain": [
       "         X      Y       Z        M       Date  Year  Month  Day\n",
       "0  117.120 -5.170  100.00  5.30000  4/10/1995  1995      4   10\n",
       "1  115.890 -5.850   33.00  5.20000  3/25/1998  1998      3   25\n",
       "2  115.938 -5.980    4.84  4.63605  8/22/2013  2013      8   22\n",
       "3  116.479 -6.538  610.00  7.10000  8/11/1937  1937      8   11\n",
       "4  115.865 -6.613  554.50  4.93668   2/7/1998  1998      2    7"
      ]
     },
     "execution_count": 6,
     "metadata": {},
     "output_type": "execute_result"
    }
   ],
   "source": [
    "file_name = 'dataset\\\\Magnitude_Catalog.csv'\n",
    "catalog = pd.read_csv(file_name)\n",
    "\n",
    "print(f\"number of catalog rows    : {catalog.shape[0]}\")\n",
    "print(f\"number of catalog columns : {catalog.shape[1]}\")\n",
    "catalog.head()"
   ]
  },
  {
   "cell_type": "markdown",
   "metadata": {},
   "source": [
    "## III. Calculating Mc and maxmag for b-value calculation and plotting the frequency-magnitude distribution (FMD)"
   ]
  },
  {
   "cell_type": "markdown",
   "metadata": {},
   "source": [
    "Mc estimation method options:\n",
    ">1. `maximum curvature (maxc)`\n",
    "2. `goodness-of-fit test (gft)`\n",
    "3. `Mc by b-value stability (mbs)`\n",
    "\n",
    "Maximum magnitude estimation method :\n",
    ">`maxmag = 𝑋𝑚𝑎𝑥1 + (𝑋𝑚𝑎𝑥1 – 𝑋𝑚𝑎𝑥2)`\n",
    "\n",
    ">where :\n",
    "maxmag = maximum magnitude,\n",
    "Xmax1 = the biggest magnitude,\n",
    "Xmax2 = the second biggest magnitude \n",
    "\n",
    "Sources: \n",
    "1. Mignan, A. dan Woessner, J. (2012): Estimating The Magnitude of completeness in Earthquake Catalogs. Community Online Resource for Statistical Seismicity Analysis. \n",
    "2. Kijko, A. dan Funk, C. W. (1994): The Assesment of Seismic Hazard in Mines. The Journal of the South African Institute of Mining and Metallurgy."
   ]
  },
  {
   "cell_type": "code",
   "execution_count": 13,
   "metadata": {},
   "outputs": [
    {
     "name": "stdout",
     "output_type": "stream",
     "text": [
      "Magnitude of Completeness : 5.3\n",
      "Maximum magnitude : 8.9\n"
     ]
    },
    {
     "data": {
      "image/png": "[encoded data removed]",
      "text/plain": [
       "<Figure size 432x288 with 1 Axes>"
      ]
     },
     "metadata": {
      "needs_background": "light"
     },
     "output_type": "display_data"
    }
   ],
   "source": [
    "# magnitude of completeness estimation method\n",
    "mc_method       = 'maxc'\n",
    "\n",
    "# calculating Mc & maxmag\n",
    "mag             = catalog['M']\n",
    "fmd_data        = fmd_details(mag, mc_method)\n",
    "mc              = fmd_data['mc']\n",
    "maxmag          = fmd_data['maxmag']\n",
    "\n",
    "print(f\"Magnitude of Completeness : {mc}\")\n",
    "print(f\"Maximum magnitude : {maxmag}\")\n",
    "\n",
    "# plotting FMD, Mc, maxmag\n",
    "plot_noncum_fmd(fmd_data)"
   ]
  },
  {
   "cell_type": "markdown",
   "metadata": {},
   "source": [
    "## IV. Calculating b-value, its uncertainty, and its 95% confidence interval"
   ]
  },
  {
   "cell_type": "markdown",
   "metadata": {},
   "source": [
    "Curve fitting method options:\n",
    ">1. `LM with Gaussian residual (b-value glog)`\n",
    "2. `GLM with Gaussian residual (b-value glin)`\n",
    "3. `GLM with Poisson residual (b-value pois)`\n",
    "\n",
    "Source :\n",
    "1. Naylor, M., Greenhough, J., McCloskey, J., Bell, A. F., dan Main, I. G. (2009): Statistical evaluation of characteristic earthquakes in the frequency magnitudo distributions of Sumatra and other subduction zone regions, Geophysical Research Letters, 36."
   ]
  },
  {
   "cell_type": "code",
   "execution_count": 14,
   "metadata": {},
   "outputs": [
    {
     "data": {
      "image/png": "[encoded data removed]",
      "text/plain": [
       "<Figure size 432x288 with 1 Axes>"
      ]
     },
     "metadata": {
      "needs_background": "light"
     },
     "output_type": "display_data"
    }
   ],
   "source": [
    "# curve fitting method\n",
    "cv_method    = 'b-value pois'\n",
    "\n",
    "# b-value and its uncertainty calculation\n",
    "cv_data     = generate_autobvalue(cv_method, fmd_data)\n",
    "bvalue      = cv_data['bvalue']\n",
    "sd_bvalue   = cv_data['unc']\n",
    "\n",
    "# plotting b-value and its 95% of confidence interval\n",
    "plot_bvalue(cv_data, cv_method)"
   ]
  },
  {
   "cell_type": "code",
   "execution_count": null,
   "metadata": {},
   "outputs": [],
   "source": []
  }
 ],
 "metadata": {
  "celltoolbar": "Attachments",
  "kernelspec": {
   "display_name": "Python 3",
   "language": "python",
   "name": "python3"
  },
  "language_info": {
   "codemirror_mode": {
    "name": "ipython",
    "version": 3
   },
   "file_extension": ".py",
   "mimetype": "text/x-python",
   "name": "python",
   "nbconvert_exporter": "python",
   "pygments_lexer": "ipython3",
   "version": "3.7.4"
  }
 },
 "nbformat": 4,
 "nbformat_minor": 4
}
