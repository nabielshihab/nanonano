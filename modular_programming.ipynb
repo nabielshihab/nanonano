{
 "cells": [
  {
   "cell_type": "markdown",
   "metadata": {},
   "source": [
    "author : \n",
    "> Nabiel Husein Shihab / nabielshihab@hotmail.com"
   ]
  },
  {
   "cell_type": "markdown",
   "metadata": {},
   "source": [
    "<div class=\"alert alert-block alert-danger\">\n",
    "<b>PESAN PENTING : </b> Pada sesi ini penulis ingin mengajak peserta untuk menggunakan sebuah library yang berisikan beberapa modul yang akan digunakan pada saat dibutuhkan. Kita menggunakan modul untuk mengurai program besar menjadi file - file kecil yang managable dan terorganisir. Lebih baik mendefinisikan fungsi-fungsi yang sering kita gunakan ke dalam suatu modul dan memanggilnya pada saat dibutuhkan di banyak program lain, dibanding mendefinisikan atau copy-paste fungsi-fungsi tersebut ke banyak program.\n",
    "</div>"
   ]
  },
  {
   "cell_type": "markdown",
   "metadata": {},
   "source": [
    "# Sedikit hal tentang library, module, dan functions\n",
    "\n",
    "Sederhananya, **modul** adalah file yang berisikan *python code*. sebagai contoh, `contoh.py` adalah sebuah modul yang bernama \"contoh\". Modul dapat berisikan ***functions, classes, atau variabel.*** Seperti yang sudah dikatakan sebelumnya, membuat modul memudahkan untuk melakukan *debug* jika ada *bug* yang muncul di kemudian hari dan juga membuat *main script / program* menjadi lebih rapih. \n",
    "\n",
    "<img src=\"Figures/Picture0.png\" width=\"700\"/>\n",
    "\n",
    "Bayangkan jika anda membuat 100 program yang di dalamnya anda harus plot episenter gempa. lalu anda membuat fungsi plot_episenter seperti di bawah di setiap 100 program tersebut.\n",
    ">def plot_episenter(x, y):\n",
    "\n",
    ">>plt.figure()\n",
    "\n",
    ">>plt.scatter(x, y, c='r', edgecolors = 'k', alpha=0.8)\n",
    "\n",
    "lalu suatu hari anda diminta untuk mengubah warna dari plot episenter gempa tersebut menjadi biru. Tangan anda akan keriting mengganti seluruh `c='r'` menjadi `c='b'` di setiap 100 program tersebut. Tetapi, jika anda membuat suatu modul yang berisikan fungsi plot_episenter gempa dan anda *import* fungsi tersebut di seluruh 100 program anda, maka anda hanya perlu mengganti satu `c='r'` menjadi `c='b'` di modul anda. Otomatis seluruh plot episenter dalam 100 program anda akan terganti menjadi warna biru. Apalagi jika anda membuat banyak fungsi yang sama untuk 100 program tersebut dan di beberapa fungsi tertentu ada suatu kesalahan. Tidak hanya tangan anda yang keriting tapi mata anda juga keriting bisa jadi, karena program anda akan sangat panjang dan tidak rapih."
   ]
  },
  {
   "cell_type": "markdown",
   "metadata": {},
   "source": [
    "## 1. Membuat library dan modul\n",
    "\n",
    "Pada sesi ini, penulis akan membuat **library** yang bernama \"library\" yang berisikan beberapa **modul**. Library tersebut berada di dalam *working directory* yang sedang kita gunakan. Di dalam library harus ada modul `__init__.py` (modul kosong tanpa definisi maupun statement apapun) agar modul-modul di dalam library tersebut dapat digunakan di beberapa program yang ada di dalam *working directory*.  \n",
    "\n",
    "<img src=\"Figures/Picture1.png\" width=\"1000\"/>"
   ]
  },
  {
   "cell_type": "markdown",
   "metadata": {},
   "source": [
    "Di dalam masing-masing modul terdapat beberapa fungsi yang akan diterapkan pada program lain.\n",
    "\n",
    "> 1. **Modul mag_of_completeness.py**, modul ini berisikan fungsi beberapa metode estimasi magnitude of completeness (Mc) dan maximum magnitude untuk perhitungan b-value. Selain itu, modul ini juga terdiri dari fungsi untuk membentuk distribusi frekuensi-magnitudo. Fungsi-fungsi yang ada di dalamnya adalah:\n",
    "    1. round_up\n",
    "    2. fmd\n",
    "    3. maxc\n",
    "    4. gft\n",
    "    5. mbs\n",
    "    6. fmd_bvalue\n",
    "    7. fmd_details\n",
    "> 2. **Modul curve_fitting_method.py**,  modul ini berisikan fungsi beberapa metode *curve fitting* untuk estimasi *b-value*, ketidakpastiannya, dan juga 95% *confidence interval*. Fungsi-fungsi yang ada di dalamnya adalah:\n",
    "    1. fit_data_with_poisson\n",
    "    2. fit_data_with_gaussian_glm\n",
    "    3. fit_data_with_gaussian_lm\n",
    "    4. generate_autobvalue\n",
    "> 3. **Modul visualization.py**, modul ini berisikan segala sesuatu yang berhubungan dengan visualisasi. Di dalamnya ada fungsi-fungsi:\n",
    "    1. plot_eq_distribution\n",
    "    2. plot_bvalue\n",
    "    3. plot_noncum_fmd\n",
    "   \n",
    "Modul-modul tersebut akan diimport pada program `autobvalue` dan `selected_autobvalue`. baik *python notebook* maupun *python file* dapat mengimport modul."
   ]
  },
  {
   "cell_type": "markdown",
   "metadata": {},
   "source": [
    "## 2. Import function dalam modul ke program"
   ]
  },
  {
   "cell_type": "markdown",
   "metadata": {},
   "source": [
    "Salah satu cara untuk import function dalam modul ke program yang kita buat adalah dengan *keyword* **`from ... import ...`**. Formatnya adalah \n",
    "> `from namalibrary.namamodul1 import fungsi1, fungsi2, fungsi3 dst`. \n",
    "\n",
    "Jika anda ingin import seluruh function di dalam modul anda, cukup ketik * setelah `import`. contoh di bawah adalah import seluruh function yang ada di dalam modul `mag_of_completeness`."
   ]
  },
  {
   "cell_type": "code",
   "execution_count": 1,
   "metadata": {},
   "outputs": [],
   "source": [
    "from library.mag_of_completeness import round_up"
   ]
  },
  {
   "cell_type": "markdown",
   "metadata": {},
   "source": [
    "contoh penggunaan fungsi `round_up` yang berada di dalam modul `mag_of_completeness.py`"
   ]
  },
  {
   "cell_type": "code",
   "execution_count": 2,
   "metadata": {},
   "outputs": [
    {
     "name": "stdout",
     "output_type": "stream",
     "text": [
      "2.6\n"
     ]
    }
   ],
   "source": [
    "a = round_up(2.57)\n",
    "print(a)"
   ]
  },
  {
   "cell_type": "code",
   "execution_count": 3,
   "metadata": {},
   "outputs": [
    {
     "name": "stdout",
     "output_type": "stream",
     "text": [
      "[1 2 3 4 5 6 7 8 9]\n"
     ]
    }
   ],
   "source": [
    "import numpy as np\n",
    "\n",
    "a = np.arange(1, 10)\n",
    "print(a)"
   ]
  },
  {
   "cell_type": "code",
   "execution_count": null,
   "metadata": {},
   "outputs": [],
   "source": []
  }
 ],
 "metadata": {
  "kernelspec": {
   "display_name": "Python 3",
   "language": "python",
   "name": "python3"
  },
  "language_info": {
   "codemirror_mode": {
    "name": "ipython",
    "version": 3
   },
   "file_extension": ".py",
   "mimetype": "text/x-python",
   "name": "python",
   "nbconvert_exporter": "python",
   "pygments_lexer": "ipython3",
   "version": "3.7.4"
  }
 },
 "nbformat": 4,
 "nbformat_minor": 4
}
